{
 "cells": [
  {
   "cell_type": "code",
   "execution_count": 14,
   "id": "3c0a7243-3e1d-41b1-a70e-70ccf24b83a7",
   "metadata": {},
   "outputs": [],
   "source": [
    "from PIL import Image\n",
    "from PIL import ImageOps\n",
    "import matplotlib.pyplot as plt"
   ]
  },
  {
   "cell_type": "code",
   "execution_count": 15,
   "id": "ccfbca11-11c5-48b0-8669-88357e555694",
   "metadata": {},
   "outputs": [],
   "source": [
    "img0 = Image.open('0.jpg')\n",
    "img00 = Image.open('00.jpg')\n",
    "img1 = Image.open('1.jpg')\n",
    "img11 = Image.open('11.jpg')\n",
    "img2 = Image.open('2.jpg')\n",
    "img22 = Image.open('22.jpg')\n",
    "img3 = Image.open('3.jpg')\n",
    "img33 = Image.open('33.jpg')\n",
    "img4 = Image.open('4.jpg')\n",
    "img44 = Image.open('44.jpg')\n",
    "img5 = Image.open('5.jpg')\n",
    "img55 = Image.open('55.jpg')\n",
    "img6 = Image.open('6.jpg')\n",
    "img66 = Image.open('66.jpg')\n",
    "img7 = Image.open('7.jpg')\n",
    "img77 = Image.open('77.jpg')\n",
    "img8 = Image.open('8.jpg')\n",
    "img88 = Image.open('88.jpg')\n",
    "img9 = Image.open('9.jpg')\n",
    "img99 = Image.open('99.jpg')"
   ]
  },
  {
   "cell_type": "code",
   "execution_count": 16,
   "id": "fb9ecea5-ff54-4d9e-acb3-dce2c6315620",
   "metadata": {},
   "outputs": [],
   "source": [
    "resized_figure0=img0.resize((16,16), Image.Resampling.LANCZOS).convert('L')\n",
    "resized_figure0=ImageOps.invert(resized_figure0);\n",
    "resized_figure00=img00.resize((16,16), Image.Resampling.LANCZOS).convert('L')\n",
    "resized_figure00=ImageOps.invert(resized_figure00);\n",
    "\n",
    "resized_figure1=img1.resize((16,16), Image.Resampling.LANCZOS).convert('L')\n",
    "resized_figure1=ImageOps.invert(resized_figure1);\n",
    "resized_figure11=img11.resize((16,16), Image.Resampling.LANCZOS).convert('L')\n",
    "resized_figure11=ImageOps.invert(resized_figure11);\n",
    "\n",
    "resized_figure2=img2.resize((16,16), Image.Resampling.LANCZOS).convert('L')\n",
    "resized_figure2=ImageOps.invert(resized_figure2);\n",
    "resized_figure22=img22.resize((16,16), Image.Resampling.LANCZOS).convert('L')\n",
    "resized_figure22=ImageOps.invert(resized_figure22);\n",
    "\n",
    "resized_figure3=img3.resize((16,16), Image.Resampling.LANCZOS).convert('L')\n",
    "resized_figure3=ImageOps.invert(resized_figure3);\n",
    "resized_figure33=img33.resize((16,16), Image.Resampling.LANCZOS).convert('L')\n",
    "resized_figure33=ImageOps.invert(resized_figure33);\n",
    "\n",
    "resized_figure4=img4.resize((16,16), Image.Resampling.LANCZOS).convert('L')\n",
    "resized_figure4=ImageOps.invert(resized_figure4);\n",
    "resized_figure44=img44.resize((16,16), Image.Resampling.LANCZOS).convert('L')\n",
    "resized_figure44=ImageOps.invert(resized_figure44);\n",
    "\n",
    "resized_figure5=img5.resize((16,16), Image.Resampling.LANCZOS).convert('L')\n",
    "resized_figure5=ImageOps.invert(resized_figure5);\n",
    "resized_figure55=img55.resize((16,16), Image.Resampling.LANCZOS).convert('L')\n",
    "resized_figure55=ImageOps.invert(resized_figure55);\n",
    "\n",
    "resized_figure6=img6.resize((16,16), Image.Resampling.LANCZOS).convert('L')\n",
    "resized_figure6=ImageOps.invert(resized_figure6);\n",
    "resized_figure66=img66.resize((16,16), Image.Resampling.LANCZOS).convert('L')\n",
    "resized_figure66=ImageOps.invert(resized_figure66);\n",
    "\n",
    "resized_figure7=img7.resize((16,16), Image.Resampling.LANCZOS).convert('L')\n",
    "resized_figure7=ImageOps.invert(resized_figure7);\n",
    "resized_figure77=img77.resize((16,16), Image.Resampling.LANCZOS).convert('L')\n",
    "resized_figure77=ImageOps.invert(resized_figure77);\n",
    "\n",
    "resized_figure8=img8.resize((16,16), Image.Resampling.LANCZOS).convert('L')\n",
    "resized_figure8=ImageOps.invert(resized_figure8);\n",
    "resized_figure88=img88.resize((16,16), Image.Resampling.LANCZOS).convert('L')\n",
    "resized_figure88=ImageOps.invert(resized_figure88);\n",
    "\n",
    "resized_figure9=img9.resize((16,16), Image.Resampling.LANCZOS).convert('L')\n",
    "resized_figure9=ImageOps.invert(resized_figure9);\n",
    "resized_figure99=img9.resize((16,16), Image.Resampling.LANCZOS).convert('L')\n",
    "resized_figure99=ImageOps.invert(resized_figure99);"
   ]
  },
  {
   "cell_type": "code",
   "execution_count": 21,
   "id": "65024c81-bac1-416d-a565-e3688d1e27ef",
   "metadata": {},
   "outputs": [
    {
     "data": {
      "image/png": "[encoded data removed]",
      "text/plain": [
       "<Figure size 640x480 with 1 Axes>"
      ]
     },
     "metadata": {},
     "output_type": "display_data"
    }
   ],
   "source": [
    "fig, ax = plt.subplots()\n",
    "ax.imshow(resized_figure0, cmap=plt.cm.gray);"
   ]
  },
  {
   "cell_type": "code",
   "execution_count": 24,
   "id": "7071cc71-60c5-440f-bfdc-0e663a2303d0",
   "metadata": {},
   "outputs": [],
   "source": [
    "import numpy as np\n",
    "\n",
    "pixels0 = list(resized_figure0.getdata())\n",
    "myArray0 = np.array(pixels0)\n",
    "myArray0 = myArray0.astype(int)\n",
    "\n",
    "pixels00 = list(resized_figure00.getdata())\n",
    "myArray00 = np.array(pixels00)\n",
    "myArray00 = myArray0.astype(int)\n",
    "\n",
    "pixels1 = list(resized_figure1.getdata())\n",
    "myArray1 = np.array(pixels1)\n",
    "myArray1 = myArray1.astype(int)\n",
    "\n",
    "pixels11 = list(resized_figure11.getdata())\n",
    "myArray11 = np.array(pixels11)\n",
    "myArray11 = myArray11.astype(int)\n",
    "\n",
    "pixels2 = list(resized_figure2.getdata())\n",
    "myArray2 = np.array(pixels2)\n",
    "myArray2 = myArray2.astype(int)\n",
    "\n",
    "pixels22 = list(resized_figure22.getdata())\n",
    "myArray22 = np.array(pixels22)\n",
    "myArray22 = myArray22.astype(int)\n",
    "\n",
    "pixels3 = list(resized_figure3.getdata())\n",
    "myArray3 = np.array(pixels3)\n",
    "myArray3 = myArray3.astype(int)\n",
    "\n",
    "pixels33 = list(resized_figure33.getdata())\n",
    "myArray33 = np.array(pixels33)\n",
    "myArray33 = myArray33.astype(int)\n",
    "\n",
    "pixels4 = list(resized_figure4.getdata())\n",
    "myArray4 = np.array(pixels4)\n",
    "myArray4 = myArray4.astype(int)\n",
    "\n",
    "pixels44 = list(resized_figure44.getdata())\n",
    "myArray44 = np.array(pixels44)\n",
    "myArray44 = myArray44.astype(int)\n",
    "\n",
    "pixels5 = list(resized_figure5.getdata())\n",
    "myArray5 = np.array(pixels5)\n",
    "myArray5 = myArray5.astype(int)\n",
    "\n",
    "pixels55 = list(resized_figure55.getdata())\n",
    "myArray55 = np.array(pixels55)\n",
    "myArray55 = myArray55.astype(int)\n",
    "\n",
    "pixels6 = list(resized_figure6.getdata())\n",
    "myArray6 = np.array(pixels6)\n",
    "myArray6 = myArray6.astype(int)\n",
    "\n",
    "pixels66 = list(resized_figure66.getdata())\n",
    "myArray66 = np.array(pixels66)\n",
    "myArray66 = myArray66.astype(int)\n",
    "\n",
    "pixels7 = list(resized_figure7.getdata())\n",
    "myArray7 = np.array(pixels7)\n",
    "myArray7 = myArray7.astype(int)\n",
    "\n",
    "pixels77 = list(resized_figure77.getdata())\n",
    "myArray77 = np.array(pixels77)\n",
    "myArray77 = myArray77.astype(int)\n",
    "\n",
    "pixels8 = list(resized_figure8.getdata())\n",
    "myArray8 = np.array(pixels8)\n",
    "myArray8 = myArray8.astype(int)\n",
    "\n",
    "pixels88 = list(resized_figure88.getdata())\n",
    "myArray88 = np.array(pixels88)\n",
    "myArray88 = myArray88.astype(int)\n",
    "\n",
    "pixels9 = list(resized_figure9.getdata())\n",
    "myArray9 = np.array(pixels9)\n",
    "myArray9 = myArray9.astype(int)\n",
    "\n",
    "pixels99 = list(resized_figure99.getdata())\n",
    "myArray99 = np.array(pixels99)\n",
    "myArray99 = myArray99.astype(int)"
   ]
  },
  {
   "cell_type": "code",
   "execution_count": 32,
   "id": "5d1812eb-204a-4a83-b8d4-d884bded78da",
   "metadata": {},
   "outputs": [],
   "source": [
    "myArray = np.vstack([myArray0, myArray00, myArray1, myArray11, myArray2, myArray22, myArray3, myArray33, myArray4, myArray44, myArray5, myArray55, myArray6, myArray66, myArray7, myArray77, myArray8, myArray88, myArray9, myArray99])"
   ]
  },
  {
   "cell_type": "code",
   "execution_count": 37,
   "id": "06b2fd19-a0f4-4998-ae5b-38f47f99bb02",
   "metadata": {},
   "outputs": [
    {
     "data": {
      "text/plain": [
       "(20, 256)"
      ]
     },
     "execution_count": 37,
     "metadata": {},
     "output_type": "execute_result"
    }
   ],
   "source": [
    "myArray.shape"
   ]
  },
  {
   "cell_type": "code",
   "execution_count": 38,
   "id": "a467fa97-c280-4bce-833f-32b58bc3c9b3",
   "metadata": {},
   "outputs": [],
   "source": [
    "np.savetxt(\"20181536.csv\", myArray, delimiter=\",\", fmt=\"%i\")"
   ]
  },
  {
   "cell_type": "code",
   "execution_count": null,
   "id": "fee1b0b4-7a3d-4653-9c7a-9fe25470287a",
   "metadata": {},
   "outputs": [],
   "source": []
  }
 ],
 "metadata": {
  "kernelspec": {
   "display_name": "Python 3 (ipykernel)",
   "language": "python",
   "name": "python3"
  },
  "language_info": {
   "codemirror_mode": {
    "name": "ipython",
    "version": 3
   },
   "file_extension": ".py",
   "mimetype": "text/x-python",
   "name": "python",
   "nbconvert_exporter": "python",
   "pygments_lexer": "ipython3",
   "version": "3.9.6"
  }
 },
 "nbformat": 4,
 "nbformat_minor": 5
}
