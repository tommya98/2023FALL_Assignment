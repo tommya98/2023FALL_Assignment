{
 "cells": [
  {
   "cell_type": "markdown",
   "id": "990949bc",
   "metadata": {},
   "source": [
    "## 손글씨 자료 생성\n",
    "\n",
    "손글씨로 0부터 9까지 각 숫자를 2번, 총 20개의 자료를 만든다."
   ]
  },
  {
   "cell_type": "markdown",
   "id": "4cc30bca",
   "metadata": {},
   "source": [
    "1. 이미지 준비\n",
    "  - 손글씨를 사진기로 찍어 JPG, GIF, PDF, PNG, TIFF 같은 형식의 파일로 준비한다.\n",
    "  - Digit image와 같이 손글씨가 정중앙에 위치하도록 하고 위아래 여백은 최소한으로 하여 준비한다.\n",
    "  \n",
    "2. Python Imaging Library 인 `PIL`을 사용하여 작업용 변수로 읽기\n",
    "\n",
    "```python\n",
    "from PIL import Image\n",
    "img = Image.open('number_2.jpg')\n",
    "```\n",
    "\n",
    "<img src=\"https://drive.google.com/uc?id=14mSNi6mMeBLGjGBJIrZAdNSNmGMV0_bT\">\n",
    "\n",
    "\n",
    "3. 이미지의 크기는 16x16, 그리고 margin은 pixel 두개를 사용한다. 위에서 만든 이미지는 사전에 앱을 이용하여 적당히 잘라서 준비하는 것이 편하다.\n",
    "\n",
    "```python\n",
    "from PIL import ImageOps\n",
    "resized_figure = img.resize((16,16), Image.ANTIALIAS).convert('L')\n",
    "resized_figure = ImageOps.invert(resized_figure)\n",
    "```\n",
    "<img src=\"https://drive.google.com/uc?id=1LhB6IvvF_ZKJv2vBAP52QAhDOm_KXhMH\">\n",
    "\n",
    "4. 변환된 이미지를 확인해 본다.\n",
    "\n",
    "```python\n",
    "fig, ax = plt.subplots()\n",
    "ax.imshow(resized_figure, cmap=plt.cm.gray);\n",
    "```\n",
    "\n",
    "5. 생성한 이미지들은 `학번.cvs`에 담아 과제란에 제출한다."
   ]
  },
  {
   "cell_type": "markdown",
   "id": "8a27c726",
   "metadata": {},
   "source": [
    "## 멜론 생산량 추정\n",
    "\n",
    "1930-1951사이 미국 수박시장과 관련된 변수들로 재배량(log q (Q))을 예측하는 문제이다.\n",
    "\n",
    "\"https://github.com/k5yi/econ2005/blob/master/datasets/water_melon.xlsx?raw=True\"\n",
    "\n",
    "| Variable | Description  |\n",
    "| :---    | :--   |\n",
    "|Year          | Year (1930-1951)  |\n",
    "|log q (Q)     | Total number of watermelons available for harvest (millions)  |\n",
    "|log h (X)     | Watermelons harvested (millions)  |\n",
    "|log p (P)     | Average **farm** price of watermelons ( \\$ per 1,000)  |\n",
    "|log p_c (C)   |Average annual net farm receipts per pound of ln_cotton_price (dollars)  |\n",
    "|log p_v (T)   |Average farm price of vegetables (index)  |\n",
    "|log w (W)     |Farm ln_wage_index rates in the South Atlantic States (index)  |\n",
    "|log n (N)     |US population  (milions) |\n",
    "|log(y/n) (Y/N)|Per capita disposable (\\$)  |\n",
    "|log p_f (F)|Railway ln_freight_cost_index costs for watermelons (index)  |"
   ]
  },
  {
   "cell_type": "markdown",
   "id": "b2a79d02",
   "metadata": {},
   "source": [
    "### 표본기간에 발생한 사건의 영향\n",
    "\n",
    "다음 두 사건의 효과를 고려하기 위해 두 사건의 기간에 대한 dummy 변수를 생성하여 예측에 사용한다.\n",
    "\n",
    "#### 2차세계대전\n",
    "\n",
    "표본기간 중 발생한 2차세계대전은 수박시장에 영향을 미쳤을 가능성이 높다. 공식적으로 2차세계대전은 1939년 9월 1일에 시작하여 1945월 9월 2일에 종전이 되었지만 미국은 진주만 공습 이후 1941년 12월 11일 공식적인 참전을 결정한다.\n",
    "\n",
    "1934년부터 1946년까지를 2차세계대전 기간이라고 간주하고 더미변수 `ww2`를 생성한다.\n",
    "\n",
    "|   year |   ww2 |\n",
    "|-------:|------:|\n",
    "|   1930 |     0 |\n",
    "|   ...  |  ...  |\n",
    "|   1942 |     0 |\n",
    "|   1943 |     1 |\n",
    "|   1944 |     1 |\n",
    "|   1945 |     1 |\n",
    "|   1946 |     1 |\n",
    "|   1947 |     0 |\n",
    "|   ...  |  ...  |\n",
    "|   1951 |     0 |\n",
    "\n",
    "#### 정부정책\n",
    "\n",
    "1934년 이후부터 표본기간 내내 cotton acreage allotment program이 실행되었다. 이 프로그램은 사전에 약속된 비율로 면화가격을 보상해주는 것으로 수박 재배 의사결정에 영향을 미칠 가능성이 많다. 예상된 정책이므로 해당년도부터 바로 효과가 있었을 가능성이 높다.\n",
    "\n",
    "1934년부터 표본의 마지막 년도인 1951년까지 더미변수 `cotton `를 생성한다.\n",
    "\n",
    "|   year |   cotton |\n",
    "|-------:|---------:|\n",
    "|   1930 |        0 |\n",
    "|   1931 |        0 |\n",
    "|   1932 |        0 |\n",
    "|   1933 |        0 |\n",
    "|   1934 |        1 |\n",
    "|   1935 |        1 |\n",
    "|   ...  |  ...     |\n",
    "|   1951 |        1 |"
   ]
  },
  {
   "cell_type": "markdown",
   "id": "982e94c6",
   "metadata": {},
   "source": [
    "### 훈련과 예측\n",
    "\n",
    "원래 자료에 포함된 변수들과 생성한 두 개의 더미변수를 이용하여 OLS 선형모형을 훈련시키고 예측성과를 살펴본다. 훈련에는 가능한 많은 변수를 포함하는 것이 훈련성과를 좋게 하지만, 예측에는 의미있는 일부 변수만 사용하는 것이 더 좋을수도 있다.\n",
    "\n",
    "1930-1945년 사이의 자료를 훈련에 사용하고 1946-1951을 검증자료로 사용한다.\n",
    "\n",
    "`학번.ipynb`를 파일이름으로 하는 jupyter notebook에 변수생성을 위한 code와 훈련과 예측을 수행하는 code를 작성하고, **실행시켠 파일**을 과제란으로 제출한다."
   ]
  }
 ],
 "metadata": {
  "hide_input": false,
  "kernelspec": {
   "display_name": "Python 3 (ipykernel)",
   "language": "python",
   "name": "python3"
  },
  "language_info": {
   "codemirror_mode": {
    "name": "ipython",
    "version": 3
   },
   "file_extension": ".py",
   "mimetype": "text/x-python",
   "name": "python",
   "nbconvert_exporter": "python",
   "pygments_lexer": "ipython3",
   "version": "3.9.6"
  },
  "toc": {
   "base_numbering": 1,
   "nav_menu": {},
   "number_sections": true,
   "sideBar": true,
   "skip_h1_title": false,
   "title_cell": "Table of Contents",
   "title_sidebar": "Contents",
   "toc_cell": false,
   "toc_position": {},
   "toc_section_display": true,
   "toc_window_display": false
  }
 },
 "nbformat": 4,
 "nbformat_minor": 5
}
